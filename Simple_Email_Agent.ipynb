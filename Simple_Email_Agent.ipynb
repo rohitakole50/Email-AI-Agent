{
  "nbformat": 4,
  "nbformat_minor": 0,
  "metadata": {
    "colab": {
      "provenance": [],
      "toc_visible": true
    },
    "kernelspec": {
      "name": "python3",
      "display_name": "Python 3"
    },
    "language_info": {
      "name": "python"
    }
  },
  "cells": [
    {
      "cell_type": "markdown",
      "source": [
        "# Initial Setup"
      ],
      "metadata": {
        "id": "jgffU7AxDbPF"
      }
    },
    {
      "cell_type": "markdown",
      "source": [
        "## 📬 Setting Up Gmail API Access\n",
        "\n",
        "To enable your AI agent to read and send emails, you'll need to set up the Gmail API on your Google account. Follow these steps carefully:\n",
        "\n",
        "- 🔑 Step 1: Open Google Cloud Console\n",
        "  - Go to [https://console.cloud.google.com/](https://console.cloud.google.com/)\n",
        "  - Sign in using the **Google account** you want the agent to access\n",
        "\n",
        "- 🆕 Step 2: Create a New Project\n",
        "  - Click the project dropdown (top nav bar)\n",
        "  - Click **\"New Project\"**, give it a name, and click **\"Create\"**\n",
        "\n",
        "- ⚙️ Step 3: Enable Gmail API\n",
        "  - Navigate to **APIs & Services > Library**\n",
        "  - Search for **Gmail API**\n",
        "  - Click on it, then click **\"Enable\"**\n",
        "\n",
        "- 🔐 Step 4: Configure OAuth Consent Screen\n",
        "  - Go to **APIs & Services > OAuth consent screen**\n",
        "  - Choose **\"External\"**\n",
        "  - Fill in required fields (app name, user support email, etc.)\n",
        "  - Add Gmail API scopes:\n",
        "\n",
        "- 🧾 Step 5: Create OAuth 2.0 Credentials\n",
        "  - Go to **APIs & Services > Credentials**\n",
        "  - Click **\"Create Credentials\" → \"OAuth Client ID\"**\n",
        "  - Choose **Desktop App**\n",
        "  - Download the `credentials.json` file\n",
        "  - Store the json file at `/content/drive/MyDrive/email_assistant/`\n",
        "\n",
        "🔁 Save this file in the same directory as your notebook. We'll use it to authenticate Gmail access."
      ],
      "metadata": {
        "id": "cgjgOC8CW5x_"
      }
    },
    {
      "cell_type": "markdown",
      "source": [
        "## 💡 Setting Up Gemini API Access (Google AI Studio)\n",
        "\n",
        "To generate intelligent email replies, we'll use Google's Gemini model via the Generative Language API.\n",
        "\n",
        "- 🔗 Step 1: Visit Google AI Studio\n",
        "  - Go to [https://ai.google.dev/](https://ai.google.dev/)\n",
        "  - Sign in with your Google account\n",
        "\n",
        "- 📋 Step 2: Create a New API Key\n",
        "  - Click on **\"Get API Key\"**\n",
        "  - Accept the terms and select your project\n",
        "  - Copy the generated **API key**\n",
        "\n",
        "- 🗝️ Step 3: Paste the API Key\n",
        "  - You’ll need to `paste the Gemini API Key` when prompted"
      ],
      "metadata": {
        "id": "GfcBXlXtW1WD"
      }
    },
    {
      "cell_type": "markdown",
      "source": [
        "# Dependancies"
      ],
      "metadata": {
        "id": "JYKmeMORDgHp"
      }
    },
    {
      "cell_type": "markdown",
      "source": [
        "## Install Required Libraries\n",
        "\n",
        "- 📦 Installing Required Python Libraries\n",
        "  - **Gmail API access** via `google-api-python-client`, `google-auth-httplib2`, and `google-auth-oauthlib`\n",
        "  - **Gemini LLM access** via `google-generativeai`\n",
        "\n",
        "✅ Run this cell once to set up your environment. If you're running in Colab or a fresh environment, this step is required."
      ],
      "metadata": {
        "id": "i5LrK43xdXGK"
      }
    },
    {
      "cell_type": "code",
      "execution_count": null,
      "metadata": {
        "colab": {
          "base_uri": "https://localhost:8080/"
        },
        "collapsed": true,
        "id": "5ltJfp0rWwCn",
        "outputId": "a16e8ea5-c4da-4318-f360-bbb9e650157f"
      },
      "outputs": [
        {
          "output_type": "stream",
          "name": "stdout",
          "text": [
            "Requirement already satisfied: google-api-python-client in /usr/local/lib/python3.11/dist-packages (2.164.0)\n",
            "Collecting google-api-python-client\n",
            "  Downloading google_api_python_client-2.167.0-py2.py3-none-any.whl.metadata (6.7 kB)\n",
            "Requirement already satisfied: google-auth-httplib2 in /usr/local/lib/python3.11/dist-packages (0.2.0)\n",
            "Requirement already satisfied: google-auth-oauthlib in /usr/local/lib/python3.11/dist-packages (1.2.1)\n",
            "Requirement already satisfied: httplib2<1.0.0,>=0.19.0 in /usr/local/lib/python3.11/dist-packages (from google-api-python-client) (0.22.0)\n",
            "Requirement already satisfied: google-auth!=2.24.0,!=2.25.0,<3.0.0,>=1.32.0 in /usr/local/lib/python3.11/dist-packages (from google-api-python-client) (2.38.0)\n",
            "Requirement already satisfied: google-api-core!=2.0.*,!=2.1.*,!=2.2.*,!=2.3.0,<3.0.0,>=1.31.5 in /usr/local/lib/python3.11/dist-packages (from google-api-python-client) (2.24.2)\n",
            "Requirement already satisfied: uritemplate<5,>=3.0.1 in /usr/local/lib/python3.11/dist-packages (from google-api-python-client) (4.1.1)\n",
            "Requirement already satisfied: requests-oauthlib>=0.7.0 in /usr/local/lib/python3.11/dist-packages (from google-auth-oauthlib) (2.0.0)\n",
            "Requirement already satisfied: googleapis-common-protos<2.0.0,>=1.56.2 in /usr/local/lib/python3.11/dist-packages (from google-api-core!=2.0.*,!=2.1.*,!=2.2.*,!=2.3.0,<3.0.0,>=1.31.5->google-api-python-client) (1.69.2)\n",
            "Requirement already satisfied: protobuf!=3.20.0,!=3.20.1,!=4.21.0,!=4.21.1,!=4.21.2,!=4.21.3,!=4.21.4,!=4.21.5,<7.0.0,>=3.19.5 in /usr/local/lib/python3.11/dist-packages (from google-api-core!=2.0.*,!=2.1.*,!=2.2.*,!=2.3.0,<3.0.0,>=1.31.5->google-api-python-client) (5.29.4)\n",
            "Requirement already satisfied: proto-plus<2.0.0,>=1.22.3 in /usr/local/lib/python3.11/dist-packages (from google-api-core!=2.0.*,!=2.1.*,!=2.2.*,!=2.3.0,<3.0.0,>=1.31.5->google-api-python-client) (1.26.1)\n",
            "Requirement already satisfied: requests<3.0.0,>=2.18.0 in /usr/local/lib/python3.11/dist-packages (from google-api-core!=2.0.*,!=2.1.*,!=2.2.*,!=2.3.0,<3.0.0,>=1.31.5->google-api-python-client) (2.32.3)\n",
            "Requirement already satisfied: cachetools<6.0,>=2.0.0 in /usr/local/lib/python3.11/dist-packages (from google-auth!=2.24.0,!=2.25.0,<3.0.0,>=1.32.0->google-api-python-client) (5.5.2)\n",
            "Requirement already satisfied: pyasn1-modules>=0.2.1 in /usr/local/lib/python3.11/dist-packages (from google-auth!=2.24.0,!=2.25.0,<3.0.0,>=1.32.0->google-api-python-client) (0.4.2)\n",
            "Requirement already satisfied: rsa<5,>=3.1.4 in /usr/local/lib/python3.11/dist-packages (from google-auth!=2.24.0,!=2.25.0,<3.0.0,>=1.32.0->google-api-python-client) (4.9)\n",
            "Requirement already satisfied: pyparsing!=3.0.0,!=3.0.1,!=3.0.2,!=3.0.3,<4,>=2.4.2 in /usr/local/lib/python3.11/dist-packages (from httplib2<1.0.0,>=0.19.0->google-api-python-client) (3.2.3)\n",
            "Requirement already satisfied: oauthlib>=3.0.0 in /usr/local/lib/python3.11/dist-packages (from requests-oauthlib>=0.7.0->google-auth-oauthlib) (3.2.2)\n",
            "Requirement already satisfied: pyasn1<0.7.0,>=0.6.1 in /usr/local/lib/python3.11/dist-packages (from pyasn1-modules>=0.2.1->google-auth!=2.24.0,!=2.25.0,<3.0.0,>=1.32.0->google-api-python-client) (0.6.1)\n",
            "Requirement already satisfied: charset-normalizer<4,>=2 in /usr/local/lib/python3.11/dist-packages (from requests<3.0.0,>=2.18.0->google-api-core!=2.0.*,!=2.1.*,!=2.2.*,!=2.3.0,<3.0.0,>=1.31.5->google-api-python-client) (3.4.1)\n",
            "Requirement already satisfied: idna<4,>=2.5 in /usr/local/lib/python3.11/dist-packages (from requests<3.0.0,>=2.18.0->google-api-core!=2.0.*,!=2.1.*,!=2.2.*,!=2.3.0,<3.0.0,>=1.31.5->google-api-python-client) (3.10)\n",
            "Requirement already satisfied: urllib3<3,>=1.21.1 in /usr/local/lib/python3.11/dist-packages (from requests<3.0.0,>=2.18.0->google-api-core!=2.0.*,!=2.1.*,!=2.2.*,!=2.3.0,<3.0.0,>=1.31.5->google-api-python-client) (2.3.0)\n",
            "Requirement already satisfied: certifi>=2017.4.17 in /usr/local/lib/python3.11/dist-packages (from requests<3.0.0,>=2.18.0->google-api-core!=2.0.*,!=2.1.*,!=2.2.*,!=2.3.0,<3.0.0,>=1.31.5->google-api-python-client) (2025.1.31)\n",
            "Downloading google_api_python_client-2.167.0-py2.py3-none-any.whl (13.2 MB)\n",
            "\u001b[2K   \u001b[90m━━━━━━━━━━━━━━━━━━━━━━━━━━━━━━━━━━━━━━━━\u001b[0m \u001b[32m13.2/13.2 MB\u001b[0m \u001b[31m89.9 MB/s\u001b[0m eta \u001b[36m0:00:00\u001b[0m\n",
            "\u001b[?25hInstalling collected packages: google-api-python-client\n",
            "  Attempting uninstall: google-api-python-client\n",
            "    Found existing installation: google-api-python-client 2.164.0\n",
            "    Uninstalling google-api-python-client-2.164.0:\n",
            "      Successfully uninstalled google-api-python-client-2.164.0\n",
            "Successfully installed google-api-python-client-2.167.0\n",
            "Requirement already satisfied: google-generativeai in /usr/local/lib/python3.11/dist-packages (0.8.4)\n",
            "Requirement already satisfied: google-ai-generativelanguage==0.6.15 in /usr/local/lib/python3.11/dist-packages (from google-generativeai) (0.6.15)\n",
            "Requirement already satisfied: google-api-core in /usr/local/lib/python3.11/dist-packages (from google-generativeai) (2.24.2)\n",
            "Requirement already satisfied: google-api-python-client in /usr/local/lib/python3.11/dist-packages (from google-generativeai) (2.167.0)\n",
            "Requirement already satisfied: google-auth>=2.15.0 in /usr/local/lib/python3.11/dist-packages (from google-generativeai) (2.38.0)\n",
            "Requirement already satisfied: protobuf in /usr/local/lib/python3.11/dist-packages (from google-generativeai) (5.29.4)\n",
            "Requirement already satisfied: pydantic in /usr/local/lib/python3.11/dist-packages (from google-generativeai) (2.11.3)\n",
            "Requirement already satisfied: tqdm in /usr/local/lib/python3.11/dist-packages (from google-generativeai) (4.67.1)\n",
            "Requirement already satisfied: typing-extensions in /usr/local/lib/python3.11/dist-packages (from google-generativeai) (4.13.1)\n",
            "Requirement already satisfied: proto-plus<2.0.0dev,>=1.22.3 in /usr/local/lib/python3.11/dist-packages (from google-ai-generativelanguage==0.6.15->google-generativeai) (1.26.1)\n",
            "Requirement already satisfied: googleapis-common-protos<2.0.0,>=1.56.2 in /usr/local/lib/python3.11/dist-packages (from google-api-core->google-generativeai) (1.69.2)\n",
            "Requirement already satisfied: requests<3.0.0,>=2.18.0 in /usr/local/lib/python3.11/dist-packages (from google-api-core->google-generativeai) (2.32.3)\n",
            "Requirement already satisfied: cachetools<6.0,>=2.0.0 in /usr/local/lib/python3.11/dist-packages (from google-auth>=2.15.0->google-generativeai) (5.5.2)\n",
            "Requirement already satisfied: pyasn1-modules>=0.2.1 in /usr/local/lib/python3.11/dist-packages (from google-auth>=2.15.0->google-generativeai) (0.4.2)\n",
            "Requirement already satisfied: rsa<5,>=3.1.4 in /usr/local/lib/python3.11/dist-packages (from google-auth>=2.15.0->google-generativeai) (4.9)\n",
            "Requirement already satisfied: httplib2<1.0.0,>=0.19.0 in /usr/local/lib/python3.11/dist-packages (from google-api-python-client->google-generativeai) (0.22.0)\n",
            "Requirement already satisfied: google-auth-httplib2<1.0.0,>=0.2.0 in /usr/local/lib/python3.11/dist-packages (from google-api-python-client->google-generativeai) (0.2.0)\n",
            "Requirement already satisfied: uritemplate<5,>=3.0.1 in /usr/local/lib/python3.11/dist-packages (from google-api-python-client->google-generativeai) (4.1.1)\n",
            "Requirement already satisfied: annotated-types>=0.6.0 in /usr/local/lib/python3.11/dist-packages (from pydantic->google-generativeai) (0.7.0)\n",
            "Requirement already satisfied: pydantic-core==2.33.1 in /usr/local/lib/python3.11/dist-packages (from pydantic->google-generativeai) (2.33.1)\n",
            "Requirement already satisfied: typing-inspection>=0.4.0 in /usr/local/lib/python3.11/dist-packages (from pydantic->google-generativeai) (0.4.0)\n",
            "Requirement already satisfied: grpcio<2.0dev,>=1.33.2 in /usr/local/lib/python3.11/dist-packages (from google-api-core[grpc]!=2.0.*,!=2.1.*,!=2.10.*,!=2.2.*,!=2.3.*,!=2.4.*,!=2.5.*,!=2.6.*,!=2.7.*,!=2.8.*,!=2.9.*,<3.0.0dev,>=1.34.1->google-ai-generativelanguage==0.6.15->google-generativeai) (1.71.0)\n",
            "Requirement already satisfied: grpcio-status<2.0.dev0,>=1.33.2 in /usr/local/lib/python3.11/dist-packages (from google-api-core[grpc]!=2.0.*,!=2.1.*,!=2.10.*,!=2.2.*,!=2.3.*,!=2.4.*,!=2.5.*,!=2.6.*,!=2.7.*,!=2.8.*,!=2.9.*,<3.0.0dev,>=1.34.1->google-ai-generativelanguage==0.6.15->google-generativeai) (1.71.0)\n",
            "Requirement already satisfied: pyparsing!=3.0.0,!=3.0.1,!=3.0.2,!=3.0.3,<4,>=2.4.2 in /usr/local/lib/python3.11/dist-packages (from httplib2<1.0.0,>=0.19.0->google-api-python-client->google-generativeai) (3.2.3)\n",
            "Requirement already satisfied: pyasn1<0.7.0,>=0.6.1 in /usr/local/lib/python3.11/dist-packages (from pyasn1-modules>=0.2.1->google-auth>=2.15.0->google-generativeai) (0.6.1)\n",
            "Requirement already satisfied: charset-normalizer<4,>=2 in /usr/local/lib/python3.11/dist-packages (from requests<3.0.0,>=2.18.0->google-api-core->google-generativeai) (3.4.1)\n",
            "Requirement already satisfied: idna<4,>=2.5 in /usr/local/lib/python3.11/dist-packages (from requests<3.0.0,>=2.18.0->google-api-core->google-generativeai) (3.10)\n",
            "Requirement already satisfied: urllib3<3,>=1.21.1 in /usr/local/lib/python3.11/dist-packages (from requests<3.0.0,>=2.18.0->google-api-core->google-generativeai) (2.3.0)\n",
            "Requirement already satisfied: certifi>=2017.4.17 in /usr/local/lib/python3.11/dist-packages (from requests<3.0.0,>=2.18.0->google-api-core->google-generativeai) (2025.1.31)\n"
          ]
        }
      ],
      "source": [
        "# Gmail API libraries\n",
        "!pip install --upgrade google-api-python-client google-auth-httplib2 google-auth-oauthlib\n",
        "\n",
        "# Gemini LLM SDK from Google AI\n",
        "!pip install --upgrade google-generativeai"
      ]
    },
    {
      "cell_type": "markdown",
      "source": [
        "## Mounting Google Drive\n",
        "\n",
        "This step mounts your Google Drive to the Colab environment so you can:\n",
        "\n",
        "- Load sensitive files like `credentials.json` from a secure location\n",
        "- Save your `token.pickle` after authenticating with Gmail\n",
        "- Store logs, results, or exports if needed"
      ],
      "metadata": {
        "id": "4i6HD1mgYB4j"
      }
    },
    {
      "cell_type": "code",
      "source": [
        "# Mount Google Drive to access credentials and store tokens\n",
        "from google.colab import drive\n",
        "drive.mount('/content/drive')"
      ],
      "metadata": {
        "colab": {
          "base_uri": "https://localhost:8080/"
        },
        "id": "WxtOqM1hDaQ6",
        "outputId": "ef48f709-15b3-40f3-bedc-fd5911025e20"
      },
      "execution_count": null,
      "outputs": [
        {
          "output_type": "stream",
          "name": "stdout",
          "text": [
            "Mounted at /content/drive\n"
          ]
        }
      ]
    },
    {
      "cell_type": "markdown",
      "source": [
        "## Importing Required Libraries\n",
        "\n",
        "This section imports all the core Python libraries used in this project:\n",
        "\n",
        "- `os`, `pickle`, `json`: File handling and serialization\n",
        "- `google_auth_oauthlib`, `googleapiclient`: For Gmail API authentication and access\n",
        "- `google.generativeai`: Gemini LLM SDK\n",
        "- `getpass`: For secure input if needed\n",
        "- `time`, `random`, `re`: For rate-limiting, delays, and regular expression handling\n",
        "- `google.api_core.exceptions.TooManyRequests`: To handle Gemini API rate limit errors\n"
      ],
      "metadata": {
        "id": "XdEtUao8Yak1"
      }
    },
    {
      "cell_type": "code",
      "source": [
        "# 🗂 File and system operations\n",
        "import os\n",
        "import pickle\n",
        "import json\n",
        "\n",
        "# 🔐 Google OAuth & Gmail API\n",
        "from google_auth_oauthlib.flow import Flow\n",
        "from googleapiclient.discovery import build\n",
        "\n",
        "# 🔑 Secure input (e.g., API key prompt)\n",
        "import getpass\n",
        "\n",
        "# 🤖 Gemini LLM SDK\n",
        "import google.generativeai as genai\n",
        "\n",
        "# 🕒 Retry and control logic\n",
        "import time       # for backoff delays\n",
        "import random     # for jitter\n",
        "import re         # for placeholder and response parsing\n",
        "\n",
        "# 🚨 Gemini API-specific exception\n",
        "from google.api_core.exceptions import TooManyRequests\n",
        "\n",
        "# 📧 Email message construction & decoding\n",
        "from email.mime.text import MIMEText\n",
        "from email import message_from_bytes\n",
        "import base64"
      ],
      "metadata": {
        "id": "5GGu5zlhDo4H"
      },
      "execution_count": null,
      "outputs": []
    },
    {
      "cell_type": "markdown",
      "source": [
        "# ✉️ Gmail Client Class\n",
        "\n",
        "This class manages all interactions with the Gmail API, including:\n",
        "\n",
        "- Authenticating the user with OAuth 2.0 (using `credentials.json`)\n",
        "- Fetching `unread emails` from the inbox\n",
        "- Extracting `plain text content` from email messages\n",
        "- Getting the sender's email address\n",
        "- `Sending emails` using MIME formatting\n",
        "- `Marking emails as read` after replying\n",
        "\n",
        "> 🔒 Note: The access token is stored in `token.pickle` after first-time authorization to avoid repeated manual login."
      ],
      "metadata": {
        "id": "pL4so7RCZMVH"
      }
    },
    {
      "cell_type": "code",
      "source": [
        "# --- Gmail Client Class ---\n",
        "class GmailClient:\n",
        "    def __init__(self, creds_path, token_path):\n",
        "        self.creds_path = creds_path\n",
        "        self.token_path = token_path\n",
        "        self.service = self.authenticate()\n",
        "\n",
        "    def authenticate(self):\n",
        "        # ✅ Check if token already exists (reuse it to skip re-auth)\n",
        "        if os.path.exists(self.token_path):\n",
        "            with open(self.token_path, 'rb') as token:\n",
        "                creds = pickle.load(token)\n",
        "        else:\n",
        "            # 🔐 Begin OAuth 2.0 flow\n",
        "            flow = Flow.from_client_secrets_file(\n",
        "                self.creds_path,\n",
        "                scopes=[\"https://www.googleapis.com/auth/gmail.modify\"],\n",
        "                redirect_uri='urn:ietf:wg:oauth:2.0:oob'\n",
        "            )\n",
        "            auth_url, _ = flow.authorization_url(prompt='consent')\n",
        "            print(\"🔗 Go to this URL, authorize, and paste the code below:\")\n",
        "            print(auth_url)\n",
        "            code = input(\"Paste your code here: \")\n",
        "            flow.fetch_token(code=code)\n",
        "            creds = flow.credentials\n",
        "\n",
        "            # 💾 Save token for future sessions\n",
        "            with open(self.token_path, 'wb') as token:\n",
        "                pickle.dump(creds, token)\n",
        "\n",
        "        # ✅ Build Gmail API service client\n",
        "        return build('gmail', 'v1', credentials=creds)\n",
        "\n",
        "    def get_unread_emails(self):\n",
        "        # 📥 Get unread messages in the inbox\n",
        "        results = self.service.users().messages().list(userId='me', labelIds=['INBOX', 'UNREAD']).execute()\n",
        "        messages = results.get('messages', [])\n",
        "        # Fetch full message details for each\n",
        "        return [self.service.users().messages().get(userId='me', id=msg['id']).execute() for msg in messages]\n",
        "\n",
        "    def extract_body(self, message):\n",
        "        # 🧾 Extract plain text from the message body\n",
        "        payload = message['payload']\n",
        "        parts = payload.get('parts', [])\n",
        "        for part in parts:\n",
        "            if part['mimeType'] == 'text/plain':\n",
        "                data = base64.urlsafe_b64decode(part['body']['data']).decode()\n",
        "                return data\n",
        "        return \"[No text/plain part found]\"\n",
        "\n",
        "    def get_sender(self, message):\n",
        "        # 📬 Extract the 'From' field from email headers\n",
        "        headers = message['payload']['headers']\n",
        "        for h in headers:\n",
        "            if h['name'].lower() == 'from':\n",
        "                return h['value']\n",
        "        return \"Unknown\"\n",
        "\n",
        "    def send_email(self, to, subject, body):\n",
        "        # 📤 Create and send a MIME email\n",
        "        message = MIMEText(body)\n",
        "        message['to'] = to\n",
        "        message['subject'] = subject\n",
        "        raw = base64.urlsafe_b64encode(message.as_bytes()).decode()\n",
        "        self.service.users().messages().send(userId='me', body={'raw': raw}).execute()\n",
        "\n",
        "    def mark_as_read(self, msg_id):\n",
        "        # ✅ Remove 'UNREAD' label to mark the email as processed\n",
        "        self.service.users().messages().modify(userId='me', id=msg_id, body={'removeLabelIds': ['UNREAD']}).execute()"
      ],
      "metadata": {
        "id": "kBLKkkzaHds7"
      },
      "execution_count": null,
      "outputs": []
    },
    {
      "cell_type": "markdown",
      "source": [
        "# 🤖 LLM Responder Class\n",
        "\n",
        "This class is responsible for generating intelligent reply suggestions using a large language model (LLM) such as Gemini.\n",
        "\n",
        "### Key Features:\n",
        "- Builds `dynamic prompts` using the incoming email body\n",
        "- Uses `prompt engineering` to ensure polite, structured replies\n",
        "- Extracts sender's first name and ends replies with a custom signature\n",
        "- Handles `429 TooManyRequests` errors with exponential backoff retries\n",
        "- Cleans up the generated text and truncates anything beyond the signature\n",
        "\n",
        "✨ This class helps you modularly integrate any LLM API into your email agent workflow."
      ],
      "metadata": {
        "id": "dO1sBgC_dLmp"
      }
    },
    {
      "cell_type": "code",
      "source": [
        "# --- LLM Responder Class ---\n",
        "class LLMResponder:\n",
        "    def __init__(self, model, signature=\"Rohit Akole\\nData Analyst | AI Enthusiast\"):\n",
        "        self.model = model\n",
        "        self.signature = signature\n",
        "\n",
        "    def safe_generate_with_retry(self, generate_fn, max_attempts=3):\n",
        "        # 🚨 Retry logic for handling Gemini's 429 rate limit\n",
        "        for attempt in range(max_attempts):\n",
        "            try:\n",
        "                return generate_fn()\n",
        "            except TooManyRequests:\n",
        "                wait = 2 ** attempt + random.uniform(0, 1)\n",
        "                print(f\"⚠️ Rate limited. Retrying in {wait:.2f}s...\")\n",
        "                time.sleep(wait)\n",
        "        raise Exception(\"Rate limit exceeded\")\n",
        "\n",
        "    def generate_replies(self, email_body, num_options=3):\n",
        "        # 🧠 Build the prompt for the LLM\n",
        "        prompt = (\n",
        "            f\"The following is an email that needs a reply:\\n\\n{email_body.strip()}\\n\\n\"\n",
        "            f\"Generate {num_options} professional, friendly email replies.\"\n",
        "            f\"If the sender's name is identifiable, begin the reply with a friendly salutation using their name.\"\n",
        "            f\"If sender's name is not available, omit the greeting entirely without using a placeholder.\"\n",
        "            f\"End each reply with this signature:\\n\\n{self.signature}\\n\"\n",
        "            f\"Format:\\nSubject: ...\\nBody: ...\"\n",
        "        )\n",
        "\n",
        "        # 🔁 Internal function for calling the LLM\n",
        "        def call():\n",
        "            response = self.model.generate_content(prompt)\n",
        "            return response.text.strip().split(\"Subject:\")[1:]\n",
        "\n",
        "        # ⚙️ Get replies with retry logic if needed\n",
        "        blocks = self.safe_generate_with_retry(call)\n",
        "\n",
        "        reply_options = []\n",
        "        for block in blocks:\n",
        "            lines = block.strip().splitlines()\n",
        "            subject = lines[0].strip()\n",
        "            remaining = \"\\n\".join(lines[1:]).strip()\n",
        "\n",
        "            # Remove 'Body:' label if present\n",
        "            if remaining.lower().startswith(\"body:\"):\n",
        "                remaining = remaining[5:].strip()\n",
        "\n",
        "            # ✂️ Truncate anything after signature\n",
        "            if self.signature in remaining:\n",
        "                body = remaining.split(self.signature)[0].strip() + f\"\\n{self.signature}\"\n",
        "            else:\n",
        "                body = remaining.strip()\n",
        "\n",
        "            reply_options.append({\"subject\": subject, \"body\": body})\n",
        "        return reply_options"
      ],
      "metadata": {
        "id": "CKuBTvk8HgF9"
      },
      "execution_count": null,
      "outputs": []
    },
    {
      "cell_type": "markdown",
      "source": [
        "# 🤝 Email Agent Controller Class\n",
        "\n",
        "This class acts as the high-level controller that coordinates between the Gmail client and the LLM responder.\n",
        "\n",
        "### Key Responsibilities:\n",
        "- Retrieve unread emails from the inbox\n",
        "- Extract sender and body content\n",
        "- Use the LLM to `generate 3 intelligent reply` suggestions\n",
        "- Allow the user to:\n",
        "  - Select a `reply option` (1, 2, or 3)\n",
        "  - Manually `edit` the reply\n",
        "  - Skip the email\n",
        "  - Exit the workflow\n",
        "- Send the selected reply and mark the email as read\n",
        "- Add delay to avoid Gemini API rate limits\n",
        "\n",
        "🧠 This class puts the **human in control** while still leveraging AI to speed up reply generation.\n"
      ],
      "metadata": {
        "id": "nZy30P9bed4W"
      }
    },
    {
      "cell_type": "code",
      "source": [
        "# --- Email Agent Controller Class ---\n",
        "class EmailAgent:\n",
        "    def __init__(self, gmail_client: GmailClient, responder: LLMResponder):\n",
        "        self.gmail = gmail_client # Handles email fetching, sending, marking\n",
        "        self.llm = responder      # Handles LLM prompt and response\n",
        "\n",
        "    def run(self):\n",
        "        # 📥 Fetch unread emails from inbox\n",
        "        emails = self.gmail.get_unread_emails()\n",
        "        if not emails:\n",
        "            print(\"📭 No unread emails found.\")\n",
        "            return\n",
        "\n",
        "        for email in emails:\n",
        "            msg_id = email['id']\n",
        "            body = self.gmail.extract_body(email)\n",
        "            sender = self.gmail.get_sender(email)\n",
        "\n",
        "            # 🔎 Show brief preview of email\n",
        "            print(f\"\\n📨 From: {sender}\")\n",
        "            print(f\"📝 Body:\\n{body[:500]}...\\n\")  # Limit preview\n",
        "\n",
        "            # 🤖 Generate 3 suggested replies using the LLM\n",
        "            replies = self.llm.generate_replies(body, num_options=3)\n",
        "            if not replies:\n",
        "                print(\"⚠️ Failed to generate replies. Skipping.\")\n",
        "                continue\n",
        "\n",
        "            # 📄 Display reply options\n",
        "            for i, opt in enumerate(replies, 1):\n",
        "                print(f\"\\n--- Option {i} ---\")\n",
        "                print(f\"Subject: {opt['subject']}\")\n",
        "                print(f\"Body:\\n{opt['body']}\\n\")\n",
        "\n",
        "            # 🎛️ Prompt user to choose what to do\n",
        "            print(\"Choose a reply to send (1, 2, 3), or type 'edit/ed', 'skip/s', or 'exit/e':\")\n",
        "            action = input(\"→ \").strip().lower()\n",
        "\n",
        "            # ⏭️ Skip or exit\n",
        "            if action in ['skip', 's']:\n",
        "                print(\"⏭️ Skipping this email.\")\n",
        "                continue\n",
        "            if action in ['exit', 'e']:\n",
        "                print(\"👋 Exiting.\")\n",
        "                break\n",
        "\n",
        "            # ✅ Select one of the LLM-generated replies\n",
        "            elif action in ['1', '2', '3']:\n",
        "                selected = replies[int(action) - 1]\n",
        "                subject, body = selected['subject'], selected['body']\n",
        "\n",
        "            # ✏️ Manual edit mode\n",
        "            elif action in ['edit', 'ed']:\n",
        "                print(\"✏️ Enter subject:\")\n",
        "                subject = input(\"→ \").strip()\n",
        "                print(\"📝 Enter body (end with a line containing only 'DONE'):\")\n",
        "                lines = []\n",
        "                while True:\n",
        "                    line = input()\n",
        "                    if line.strip().lower() == 'done':\n",
        "                        break\n",
        "                    lines.append(line)\n",
        "                body = \"\\n\".join(lines).strip()\n",
        "            else:\n",
        "                print(\"❌ Invalid input. Skipping.\")\n",
        "                continue\n",
        "\n",
        "            # 🔍 Final confirmation before sending\n",
        "            print(f\"\\n📤 Final Preview:\\nSubject: {subject}\\nBody:\\n{body}\\n\")\n",
        "            print(\"Send this reply? ['YES / Y', 'NO / N']:\\n\")\n",
        "            confirm = input(\"→ \").strip().lower()\n",
        "\n",
        "            if confirm in ['yes', 'y']:\n",
        "                self.gmail.send_email(sender, subject, body)\n",
        "                self.gmail.mark_as_read(msg_id)\n",
        "                print(\"✅ Email sent and marked as read.\")\n",
        "            else:\n",
        "                print(\"🚫 Email not sent.\")\n",
        "\n",
        "            # ⏱️ Prevent rate limit when looping through emails\n",
        "            time.sleep(4)"
      ],
      "metadata": {
        "id": "HlVWvhFiHgCy"
      },
      "execution_count": null,
      "outputs": []
    },
    {
      "cell_type": "markdown",
      "source": [
        "# 🔐 Configuring Gemini API Access\n",
        "\n",
        "This cell securely prompts the user for their **Gemini API key** and uses it to configure the `google.generativeai` SDK. This is necessary for generating intelligent email replies via Google's large language models.\n",
        "\n",
        "🛡️ Your API key is not displayed in plain text for security purposes. It must have access to the Generative Language API on [https://ai.google.dev](https://ai.google.dev).\n"
      ],
      "metadata": {
        "id": "Y99LVwxhh8La"
      }
    },
    {
      "cell_type": "code",
      "source": [
        "# 🔐 Prompt user securely for Gemini API key (input hidden)\n",
        "gemini_api_key = getpass.getpass(\"🔐 Enter your Gemini API key: \")\n",
        "\n",
        "# ⚙️ Configure the Gemini client using the provided key\n",
        "genai.configure(api_key=gemini_api_key)"
      ],
      "metadata": {
        "colab": {
          "base_uri": "https://localhost:8080/"
        },
        "id": "ef9Igdb_Hf9Q",
        "outputId": "4dae4766-ef23-47df-877b-84c76b669ef4"
      },
      "execution_count": null,
      "outputs": [
        {
          "name": "stdout",
          "output_type": "stream",
          "text": [
            "🔐 Enter your Gemini API key: ··········\n"
          ]
        }
      ]
    },
    {
      "cell_type": "markdown",
      "source": [
        "# ⚡ Initializing Gemini Model\n",
        "\n",
        "This cell initializes the Gemini model that will be used to generate intelligent email replies.\n",
        "\n",
        "We're using:\n",
        "- `gemini-2.0-flash` - a fast, lightweight version ideal for real-time applications\n",
        "\n",
        "You can also switch to `gemini-pro` if you want more nuanced replies at the cost of speed."
      ],
      "metadata": {
        "id": "Ofr8wbJdiS5b"
      }
    },
    {
      "cell_type": "code",
      "source": [
        "# ⚙️ Instantiate Components\n",
        "model = genai.GenerativeModel(model_name=\"gemini-2.0-flash\")"
      ],
      "metadata": {
        "id": "cB1P6ippIBF8"
      },
      "execution_count": null,
      "outputs": []
    },
    {
      "cell_type": "markdown",
      "source": [
        "# ✉️ Initialize Gmail Client\n",
        "\n",
        "This cell creates an instance of the `GmailClient` class, which handles:\n",
        "\n",
        "- Gmail API authentication using your `credentials.json` and `token.pkl` files\n",
        "- Fetching **unread emails, sending replies,** and **marking messages as read**\n",
        "\n",
        "🔁 If this is your first time running the notebook, you'll be prompted to authorize access to your Gmail account."
      ],
      "metadata": {
        "id": "58ePmkU7ir4H"
      }
    },
    {
      "cell_type": "code",
      "source": [
        "# ✉️ Initialize Gmail client with credentials and token from Google Drive\n",
        "gmail = GmailClient(\n",
        "    creds_path='/content/drive/MyDrive/email_assistant/credentials.json',\n",
        "    token_path='/content/drive/MyDrive/email_assistant/token.pkl'\n",
        ")"
      ],
      "metadata": {
        "id": "f8a_LYsVI-0t"
      },
      "execution_count": null,
      "outputs": []
    },
    {
      "cell_type": "markdown",
      "source": [
        "# 🤖 Create and Run the AI Email Agent\n",
        "\n",
        "This final step brings all components together:\n",
        "\n",
        "- `LLMResponder` is initialized using the Gemini model\n",
        "- `EmailAgent` is created using the Gmail and LLM components\n",
        "- `agent.run()` launches the interactive session:\n",
        "    - Reads unread emails\n",
        "    - Suggests 3 AI-generated replies\n",
        "    - Lets the user pick, edit, skip, or exit\n",
        "    - Sends the chosen reply and marks the email as read\n",
        "\n",
        "🟢 Run this cell to start your AI-powered email assistant!\n"
      ],
      "metadata": {
        "id": "jaKaicTMkWf8"
      }
    },
    {
      "cell_type": "code",
      "source": [
        "# 🤖 Initialize the LLM responder with the Gemini model\n",
        "responder = LLMResponder(model)\n",
        "\n",
        "# 🔁 Create the email agent using Gmail and LLM\n",
        "agent = EmailAgent(gmail, responder)\n",
        "\n",
        "# 🚀 Start the interactive email reply session\n",
        "agent.run()"
      ],
      "metadata": {
        "colab": {
          "base_uri": "https://localhost:8080/",
          "height": 1000
        },
        "id": "Ku733Pq7Hf5x",
        "outputId": "d46dbdcf-4420-437d-e613-e0aaf5ac90ae"
      },
      "execution_count": null,
      "outputs": [
        {
          "output_type": "stream",
          "name": "stdout",
          "text": [
            "\n",
            "📨 From: Ananya Shrivastava <ananya.shrivastava.98@gmail.com>\n",
            "📝 Body:\n",
            "Hi Professor,\r\n",
            "\r\n",
            "I cannot turn in my homework in time this week. My cat ate my assignment.\r\n",
            "Hes a brat and eats everything that is important to me. Last night it ate\r\n",
            "my pizza, drank my beer and when he still was hungry he proceeded to EAT\r\n",
            "the 20 pages long essay on why \"We should be more scared of cats than AI\"\r\n",
            "\r\n",
            "I am sorry, I swear this isnt an excuse!\r\n",
            "\r\n",
            "Regards,\r\n",
            "Rob C\r\n",
            "...\n",
            "\n",
            "\n",
            "--- Option 1 ---\n",
            "Subject: Regarding Your Assignment\n",
            "Body:\n",
            "Hi Rob,\n",
            "\n",
            "Thanks for letting me know about the... *ahem*... situation. I understand things can happen, especially with mischievous pets around.\n",
            "\n",
            "Let's focus on getting this assignment completed. Could you please resubmit the essay by [Suggest a specific date/time]? I'm happy to discuss any challenges you're facing in rewriting it. Perhaps we can brainstorm some approaches to the topic, and maybe even find a way to deter your cat from future scholarly snack attacks.\n",
            "Rohit Akole\n",
            "Data Analyst | AI Enthusiast\n",
            "\n",
            "\n",
            "--- Option 2 ---\n",
            "Subject: Re: Your Assignment - Cats vs. AI (and Pizza)\n",
            "Body:\n",
            "Hi Rob,\n",
            "\n",
            "Oh my goodness! I must admit, that's a new one. A cat eating a 20-page essay on why we should be more scared of cats than AI... that's some pretty high-level irony!\n",
            "\n",
            "While I appreciate the, let's say *unique*, circumstances, I still need you to submit the assignment. How about we aim for you to get it to me by [Suggest a specific date/time]? Let me know if that works for you and if you need any help convincing your feline friend to stay away from your future assignments (and pizza!).\n",
            "Rohit Akole\n",
            "Data Analyst | AI Enthusiast\n",
            "\n",
            "\n",
            "--- Option 3 ---\n",
            "Subject: Re: Homework Submission\n",
            "Body:\n",
            "Hi Rob,\n",
            "\n",
            "Thank you for informing me about the reason for the delay in submitting your assignment. While I appreciate your honesty, I do need to ensure all students submit their work.\n",
            "\n",
            "Please plan to resubmit the essay on cats versus AI by [Suggest a specific date/time]. I also recommend considering preventative measures to safeguard your future assignments. Perhaps a lockbox?\n",
            "Rohit Akole\n",
            "Data Analyst | AI Enthusiast\n",
            "\n",
            "Choose a reply to send (1, 2, 3), or type 'edit/ed', 'skip/s', or 'exit/e':\n",
            "→ 2\n",
            "\n",
            "📤 Final Preview:\n",
            "Subject: Re: Your Assignment - Cats vs. AI (and Pizza)\n",
            "Body:\n",
            "Hi Rob,\n",
            "\n",
            "Oh my goodness! I must admit, that's a new one. A cat eating a 20-page essay on why we should be more scared of cats than AI... that's some pretty high-level irony!\n",
            "\n",
            "While I appreciate the, let's say *unique*, circumstances, I still need you to submit the assignment. How about we aim for you to get it to me by [Suggest a specific date/time]? Let me know if that works for you and if you need any help convincing your feline friend to stay away from your future assignments (and pizza!).\n",
            "Rohit Akole\n",
            "Data Analyst | AI Enthusiast\n",
            "\n",
            "Send this reply? ['YES / Y', 'NO / N']:\n",
            "\n",
            "→ y\n",
            "✅ Email sent and marked as read.\n",
            "\n",
            "📨 From: Rohit Akole <rakole94@gmail.com>\n",
            "📝 Body:\n",
            "[No text/plain part found]...\n",
            "\n",
            "\n",
            "--- Option 1 ---\n",
            "Subject: Re: Your Email\n",
            "Body:\n",
            "Thank you for your email.\n",
            "\n",
            "To best assist you, could you please provide more details regarding your inquiry? I look forward to learning more about how I can help.\n",
            "Rohit Akole\n",
            "Data Analyst | AI Enthusiast\n",
            "\n",
            "\n",
            "--- Option 2 ---\n",
            "Subject: Re: Your Email\n",
            "Body:\n",
            "Thank you for reaching out.\n",
            "\n",
            "I will review your email and get back to you as soon as possible. Please allow me some time to properly address your request.\n",
            "Rohit Akole\n",
            "Data Analyst | AI Enthusiast\n",
            "\n",
            "\n",
            "--- Option 3 ---\n",
            "Subject: Re: Your Email\n",
            "Body:\n",
            "Thank you for your email.\n",
            "\n",
            "While I await further details, are there any specific documents or information that would be helpful for me to review in advance?\n",
            "Rohit Akole\n",
            "Data Analyst | AI Enthusiast\n",
            "\n",
            "Choose a reply to send (1, 2, 3), or type 'edit/ed', 'skip/s', or 'exit/e':\n",
            "→ e\n",
            "👋 Exiting.\n"
          ]
        }
      ]
    },
    {
      "cell_type": "markdown",
      "source": [
        "# 🚀 Further Enhancements (Implemented)\n",
        "\n",
        "1. **📎 Attachment Support**  \n",
        "   Automatically downloads, reads, and extracts meaningful content from attachments such as PDF, DOCX, TXT, CSV, and XLSX files.\n",
        "\n",
        "2. **🔥 Email Prioritization by Urgency & Importance**  \n",
        "   Uses a custom language model prompt to rank unread emails so that high-impact messages are addressed first.\n",
        "\n",
        "3. **💬 Sentiment Detection (Body + Attachment)**  \n",
        "   Detects tone across both the email body and its attachments — helpful for quickly sensing urgency or emotional undertones.\n",
        "\n",
        "4. **📝 Email + Attachment Summarization**  \n",
        "   Generates concise summaries from long email threads and embedded documents, improving readability and reducing time spent on context switching.\n",
        "\n",
        "5. **🤖 AI-Powered Reply Generation with Smart Placeholders**  \n",
        "   Suggests 3 professional and contextual responses with intelligent placeholders, allowing users to easily personalize before sending.\n",
        "\n"
      ],
      "metadata": {
        "id": "jkIQZES6HrRv"
      }
    }
  ]
}